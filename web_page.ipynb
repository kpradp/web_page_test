{
 "cells": [
  {
   "source": [
    "!pip install --upgrade pip\n",
    "# !pip install opencv-python  \n",
    "!pip install ipywidgets\n",
    "!pip install matplotlib\n",
    "!pip install numpy\n",
    "!pip install panel\n",
    "!pip install ipyvuetify\n"
   ],
   "cell_type": "code",
   "metadata": {
    "tags": [
     "outputPrepend"
    ]
   },
   "execution_count": null,
   "outputs": []
  },
  {
   "cell_type": "code",
   "execution_count": null,
   "metadata": {},
   "outputs": [],
   "source": [
    "print('pp')"
   ]
  },
  {
   "cell_type": "code",
   "execution_count": null,
   "metadata": {},
   "outputs": [],
   "source": [
    "\n"
   ]
  },
  {
   "cell_type": "code",
   "execution_count": 7,
   "metadata": {},
   "outputs": [
    {
     "output_type": "display_data",
     "data": {
      "text/plain": "IntSlider(value=10)",
      "application/vnd.jupyter.widget-view+json": {
       "version_major": 2,
       "version_minor": 0,
       "model_id": "f02f732a2ef04068b499cd0810c1c39d"
      }
     },
     "metadata": {}
    },
    {
     "output_type": "stream",
     "name": "stdout",
     "text": [
      "10\n"
     ]
    },
    {
     "output_type": "display_data",
     "data": {
      "text/plain": "Text(value='Hello World!', disabled=True)",
      "application/vnd.jupyter.widget-view+json": {
       "version_major": 2,
       "version_minor": 0,
       "model_id": "886deb0f0157434a8be25eefcee1a817"
      }
     },
     "metadata": {}
    }
   ],
   "source": [
    "import ipywidgets as widgets\n",
    "w = widgets.IntSlider()\n",
    "w.value =10\n",
    "display(w)\n",
    "print(w.value)\n",
    "\n",
    "\n",
    "widgets.Text(value='Hello World!', disabled=True)\n",
    "\n"
   ]
  },
  {
   "cell_type": "code",
   "execution_count": null,
   "metadata": {},
   "outputs": [],
   "source": [
    "# from __future__ import print_function\n",
    "# from ipywidgets import interact, interactive, fixed, interact_manual\n",
    "# import ipywidgets as widgets\n",
    "\n",
    "# def f(x):\n",
    "#     return x\n",
    "\n",
    "# interact(f, x=10)\n",
    "# print('interaction')"
   ]
  },
  {
   "source": [
    "%matplotlib inline\n",
    "from ipywidgets import interactive\n",
    "import matplotlib.pyplot as plt\n",
    "import numpy as np\n",
    "\n",
    "def f(m, b):\n",
    "    plt.figure(2)\n",
    "    x = np.linspace(-10, 10, num=1000)\n",
    "    plt.plot(x, m * x + b)\n",
    "    plt.ylim(-5, 5)\n",
    "    plt.show()\n",
    "\n",
    "interactive_plot = interactive(f, m=(-2.0, 2.0), b=(-3, 3, 0.5))\n",
    "output = interactive_plot.children[-1]\n",
    "output.layout.height = '350px'\n",
    "interactive_plot"
   ],
   "cell_type": "code",
   "metadata": {},
   "execution_count": null,
   "outputs": []
  },
  {
   "cell_type": "code",
   "execution_count": 6,
   "metadata": {
    "scrolled": false
   },
   "outputs": [
    {
     "output_type": "display_data",
     "data": {
      "text/plain": "Container(children=[Select(items=['red', 'green', 'blue'], label='Colors', v_model='green'), Chip()])",
      "application/vnd.jupyter.widget-view+json": {
       "version_major": 2,
       "version_minor": 0,
       "model_id": "d1a776ec7b3c43f590994cb85651faa1"
      }
     },
     "metadata": {}
    }
   ],
   "source": [
    "\n",
    "\n",
    "# import ipyvuetify as v\n",
    "\n",
    "# my_select = v.Select(\n",
    "#     label='Fruits',\n",
    "#     items=['Apple', 'Pear', 'Cherry'])\n",
    "# my_select\n",
    " \n",
    "\n",
    "# v.Select(style_='width: 75px', label='Fruits', items=['Apple', 'Pear', 'Cherry'], value='Apple')\n",
    "\n",
    "\n",
    "import ipyvuetify as v\n",
    "from ipywidgets import jslink\n",
    "\n",
    "color_select = v.Select(\n",
    "    v_model='green',\n",
    "    label='Colors',\n",
    "    items=['red', 'green', 'blue'])\n",
    "\n",
    "color_display = v.Chip()\n",
    "\n",
    "jslink((color_select, 'v_model'), (color_display, 'color'))\n",
    "\n",
    "v.Container(children=[\n",
    "    color_select,\n",
    "    color_display\n",
    "])\n",
    "\n",
    "# btn = v.Btn(color='primary', children=['Click me'])\n",
    "# count = 0\n",
    "\n",
    "# def on_click(widget, event, data):\n",
    "#     global count\n",
    "#     btn.children=[f'Click me {count}']\n",
    "#     count += 1\n",
    "\n",
    "# btn.on_event('click', on_click)\n",
    "\n",
    "# # v.Container(children=[\n",
    "# #     btn\n",
    "# # ])\n",
    "\n",
    "# v.theme.dark = True\n",
    "\n",
    "# v.Row(children=[\n",
    "#     v.Col(cols=12, md=6, children=[\n",
    "#         v.Card(outlined=True, style_='height: 400px', children=[f'Element {i}'])\n",
    "#     ]) for i in range (1,3)\n",
    "# ])"
   ]
  },
  {
   "cell_type": "code",
   "execution_count": null,
   "metadata": {},
   "outputs": [],
   "source": [
    "!pip freeze > requirements.txt"
   ]
  },
  {
   "cell_type": "code",
   "execution_count": null,
   "metadata": {},
   "outputs": [],
   "source": []
  }
 ],
 "metadata": {
  "kernelspec": {
   "name": "python383jvsc74a57bd0dca0ade3e726a953b501b15e8e990130d2b7799f14cfd9f4271676035ebe5511",
   "display_name": "Python 3.8.3 64-bit ('base': conda)"
  },
  "language_info": {
   "codemirror_mode": {
    "name": "ipython",
    "version": 3
   },
   "file_extension": ".py",
   "mimetype": "text/x-python",
   "name": "python",
   "nbconvert_exporter": "python",
   "pygments_lexer": "ipython3",
   "version": "3.8.3"
  },
  "metadata": {
   "interpreter": {
    "hash": "c262b3848b835ce48070f095f59548b99cf037846922f59e63b0e40c5c7e5fc3"
   }
  }
 },
 "nbformat": 4,
 "nbformat_minor": 4
}